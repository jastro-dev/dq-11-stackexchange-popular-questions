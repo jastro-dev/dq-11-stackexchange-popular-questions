{
 "cells": [
  {
   "cell_type": "markdown",
   "metadata": {},
   "source": [
    "# Stack Exchange Popular Data Science Questions"
   ]
  },
  {
   "cell_type": "markdown",
   "metadata": {},
   "source": [
    "In this project, we set to pull the most popular data science questions from Stack Exchange by utilizing the Stack Exchange Data Explorer (SEDE)."
   ]
  },
  {
   "cell_type": "markdown",
   "metadata": {},
   "source": [
    "## Initial SQL Exploration"
   ]
  },
  {
   "cell_type": "markdown",
   "metadata": {},
   "source": [
    "We begin by exploring the tables within the SEDE. The `Posts` table seems to be the most relevant to our goal of finding the most popular questions. Using the following query, we can see the relevant columns within the table as well as sample rows.\n",
    "\n",
    "```sql\n",
    "SELECT TOP 10 *\n",
    "FROM Posts;\n",
    "```\n",
    "\n",
    "<img src=\"screenshots/Screenshot 2024-12-17 142147.jpg\"/>"
   ]
  },
  {
   "cell_type": "markdown",
   "metadata": {},
   "source": [
    "Running the following gives us an explanation on Post Types:\n",
    "\n",
    "```sql\n",
    "SELECT *\n",
    "FROM PostTypes;\n",
    "```\n",
    "\n",
    "<img src=\"screenshots/Screenshot 2024-12-17 142503.jpg\"/>"
   ]
  },
  {
   "cell_type": "markdown",
   "metadata": {},
   "source": [
    "Seeing this table, we can see that we want to narrow down our posts to the `PostTypeId` of 1 to only view questions."
   ]
  },
  {
   "cell_type": "markdown",
   "metadata": {},
   "source": [
    "## Get Relevant Data From `Questions` Post Type"
   ]
  },
  {
   "cell_type": "markdown",
   "metadata": {
    "vscode": {
     "languageId": "plaintext"
    }
   },
   "source": [
    "The columns that we are targetting are:\n",
    "- Id\n",
    "- PostTypeId\n",
    "- CreationDate\n",
    "- Score\n",
    "- ViewCount\n",
    "- Tags\n",
    "- AnswerCount\n",
    "- FavoriteCount\n",
    "\n",
    "---\n",
    "\n",
    "### Questions from 2024\n",
    "\n",
    "We can filter the Posts table with the necessary columns by `Questions` type with the following query, focusing on only posts that are within the current year (2024):\n",
    "\n",
    "```sql\n",
    "SELECT Id, CreationDate, Score, ViewCount, Tags, AnswerCount, FavoriteCount\n",
    "FROM Posts\n",
    "WHERE PostTypeId = 1 AND CreationDate >= '2024-01-01 00:00:00'\n",
    "ORDER BY CreationDate DESC;\n",
    "```\n",
    "\n",
    "<img src=\"screenshots/Screenshot 2024-12-17 142904.jpg\"/>\n",
    "\n",
    "---\n",
    "\n",
    "### Dynamic: Questions from last 12 months\n",
    "\n",
    "We can even convert this into a dynamic query that will pull a years worth of data regardless of the current date.\n",
    "\n",
    "```sql\n",
    "SELECT Id, CreationDate, Score, ViewCount, Tags, AnswerCount, FavoriteCount\n",
    "FROM Posts\n",
    "WHERE PostTypeId = 1 AND CreationDate >= DATEADD(MONTH, -12, GETDATE())\n",
    "ORDER BY CreationDate DESC;\n",
    "```\n",
    "\n",
    "<img src=\"screenshots/Screenshot 2024-12-17 143717.jpg\"/>\n",
    "\n",
    "Using this resulting table, we will download it as a `.csv` and analyze our results further."
   ]
  },
  {
   "cell_type": "markdown",
   "metadata": {},
   "source": [
    "## "
   ]
  },
  {
   "cell_type": "markdown",
   "metadata": {},
   "source": [
    "## Data Exploration Using Python"
   ]
  },
  {
   "cell_type": "code",
   "execution_count": 187,
   "metadata": {},
   "outputs": [],
   "source": [
    "import matplotlib.pyplot as plt\n",
    "import numpy as np\n",
    "import pandas as pd\n",
    "import seaborn as sns\n",
    "\n",
    "df = pd.read_csv('2024_questions.csv', parse_dates=['CreationDate'])"
   ]
  },
  {
   "cell_type": "code",
   "execution_count": 188,
   "metadata": {},
   "outputs": [
    {
     "name": "stdout",
     "output_type": "stream",
     "text": [
      "<class 'pandas.core.frame.DataFrame'>\n",
      "RangeIndex: 2082 entries, 0 to 2081\n",
      "Data columns (total 7 columns):\n",
      " #   Column         Non-Null Count  Dtype         \n",
      "---  ------         --------------  -----         \n",
      " 0   Id             2082 non-null   int64         \n",
      " 1   CreationDate   2082 non-null   datetime64[ns]\n",
      " 2   Score          2082 non-null   int64         \n",
      " 3   ViewCount      2082 non-null   int64         \n",
      " 4   Tags           2082 non-null   object        \n",
      " 5   AnswerCount    2082 non-null   int64         \n",
      " 6   FavoriteCount  0 non-null      float64       \n",
      "dtypes: datetime64[ns](1), float64(1), int64(4), object(1)\n",
      "memory usage: 114.0+ KB\n"
     ]
    }
   ],
   "source": [
    "df.info()"
   ]
  },
  {
   "cell_type": "code",
   "execution_count": 189,
   "metadata": {},
   "outputs": [
    {
     "data": {
      "text/html": [
       "<div>\n",
       "<style scoped>\n",
       "    .dataframe tbody tr th:only-of-type {\n",
       "        vertical-align: middle;\n",
       "    }\n",
       "\n",
       "    .dataframe tbody tr th {\n",
       "        vertical-align: top;\n",
       "    }\n",
       "\n",
       "    .dataframe thead th {\n",
       "        text-align: right;\n",
       "    }\n",
       "</style>\n",
       "<table border=\"1\" class=\"dataframe\">\n",
       "  <thead>\n",
       "    <tr style=\"text-align: right;\">\n",
       "      <th></th>\n",
       "      <th>Id</th>\n",
       "      <th>CreationDate</th>\n",
       "      <th>Score</th>\n",
       "      <th>ViewCount</th>\n",
       "      <th>Tags</th>\n",
       "      <th>AnswerCount</th>\n",
       "      <th>FavoriteCount</th>\n",
       "    </tr>\n",
       "  </thead>\n",
       "  <tbody>\n",
       "    <tr>\n",
       "      <th>0</th>\n",
       "      <td>130937</td>\n",
       "      <td>2024-12-14 19:42:10</td>\n",
       "      <td>0</td>\n",
       "      <td>7</td>\n",
       "      <td>&lt;scikit-learn&gt;&lt;random-forest&gt;&lt;overfitting&gt;&lt;for...</td>\n",
       "      <td>0</td>\n",
       "      <td>NaN</td>\n",
       "    </tr>\n",
       "    <tr>\n",
       "      <th>1</th>\n",
       "      <td>130935</td>\n",
       "      <td>2024-12-14 06:21:49</td>\n",
       "      <td>0</td>\n",
       "      <td>10</td>\n",
       "      <td>&lt;neural-network&gt;&lt;pytorch&gt;&lt;overfitting&gt;</td>\n",
       "      <td>0</td>\n",
       "      <td>NaN</td>\n",
       "    </tr>\n",
       "    <tr>\n",
       "      <th>2</th>\n",
       "      <td>130931</td>\n",
       "      <td>2024-12-13 17:58:34</td>\n",
       "      <td>0</td>\n",
       "      <td>54</td>\n",
       "      <td>&lt;scikit-learn&gt;&lt;xgboost&gt;</td>\n",
       "      <td>1</td>\n",
       "      <td>NaN</td>\n",
       "    </tr>\n",
       "    <tr>\n",
       "      <th>3</th>\n",
       "      <td>130928</td>\n",
       "      <td>2024-12-13 15:36:20</td>\n",
       "      <td>0</td>\n",
       "      <td>12</td>\n",
       "      <td>&lt;python&gt;&lt;pytorch&gt;&lt;forecasting&gt;&lt;attention-mecha...</td>\n",
       "      <td>0</td>\n",
       "      <td>NaN</td>\n",
       "    </tr>\n",
       "    <tr>\n",
       "      <th>4</th>\n",
       "      <td>130927</td>\n",
       "      <td>2024-12-13 15:34:17</td>\n",
       "      <td>1</td>\n",
       "      <td>16</td>\n",
       "      <td>&lt;dataset&gt;&lt;data-mining&gt;&lt;data&gt;&lt;visualization&gt;&lt;da...</td>\n",
       "      <td>1</td>\n",
       "      <td>NaN</td>\n",
       "    </tr>\n",
       "  </tbody>\n",
       "</table>\n",
       "</div>"
      ],
      "text/plain": [
       "       Id        CreationDate  Score  ViewCount  \\\n",
       "0  130937 2024-12-14 19:42:10      0          7   \n",
       "1  130935 2024-12-14 06:21:49      0         10   \n",
       "2  130931 2024-12-13 17:58:34      0         54   \n",
       "3  130928 2024-12-13 15:36:20      0         12   \n",
       "4  130927 2024-12-13 15:34:17      1         16   \n",
       "\n",
       "                                                Tags  AnswerCount  \\\n",
       "0  <scikit-learn><random-forest><overfitting><for...            0   \n",
       "1             <neural-network><pytorch><overfitting>            0   \n",
       "2                            <scikit-learn><xgboost>            1   \n",
       "3  <python><pytorch><forecasting><attention-mecha...            0   \n",
       "4  <dataset><data-mining><data><visualization><da...            1   \n",
       "\n",
       "   FavoriteCount  \n",
       "0            NaN  \n",
       "1            NaN  \n",
       "2            NaN  \n",
       "3            NaN  \n",
       "4            NaN  "
      ]
     },
     "execution_count": 189,
     "metadata": {},
     "output_type": "execute_result"
    }
   ],
   "source": [
    "df.head()"
   ]
  },
  {
   "cell_type": "code",
   "execution_count": 190,
   "metadata": {},
   "outputs": [
    {
     "data": {
      "text/plain": [
       "Id                  0\n",
       "CreationDate        0\n",
       "Score               0\n",
       "ViewCount           0\n",
       "Tags                0\n",
       "AnswerCount         0\n",
       "FavoriteCount    2082\n",
       "dtype: int64"
      ]
     },
     "execution_count": 190,
     "metadata": {},
     "output_type": "execute_result"
    }
   ],
   "source": [
    "df.isnull().sum()"
   ]
  },
  {
   "cell_type": "code",
   "execution_count": 191,
   "metadata": {},
   "outputs": [
    {
     "data": {
      "text/plain": [
       "FavoriteCount\n",
       "NaN    2082\n",
       "Name: count, dtype: int64"
      ]
     },
     "execution_count": 191,
     "metadata": {},
     "output_type": "execute_result"
    }
   ],
   "source": [
    "df['FavoriteCount'].value_counts(dropna=False)"
   ]
  },
  {
   "cell_type": "code",
   "execution_count": 192,
   "metadata": {},
   "outputs": [
    {
     "data": {
      "text/plain": [
       "Tags\n",
       "<machine-learning>                                                17\n",
       "<deep-learning>                                                    8\n",
       "<machine-learning><python><deep-learning><neural-network><nlp>     8\n",
       "<time-series>                                                      7\n",
       "<dataset>                                                          6\n",
       "                                                                  ..\n",
       "<python><bayesian><monte-carlo>                                    1\n",
       "<machine-learning><time-series><forecasting>                       1\n",
       "<data-cleaning>                                                    1\n",
       "<python><xgboost><multiclass-classification>                       1\n",
       "<machine-learning><time-series><regression>                        1\n",
       "Name: count, Length: 1856, dtype: int64"
      ]
     },
     "execution_count": 192,
     "metadata": {},
     "output_type": "execute_result"
    }
   ],
   "source": [
    "df['Tags'].value_counts(dropna=False)"
   ]
  },
  {
   "cell_type": "markdown",
   "metadata": {},
   "source": [
    "### Findings:\n",
    "- Null values in `FavoriteCount`\n",
    "    - All values are null in this case\n",
    "- `Tags` column needs cleaning\n",
    "    - Change formatting from brackets to comma-separated\n",
    "    - Store in list"
   ]
  },
  {
   "cell_type": "markdown",
   "metadata": {},
   "source": [
    "## Data Cleaning"
   ]
  },
  {
   "cell_type": "markdown",
   "metadata": {},
   "source": [
    "Because all values within `FavoriteCount` are null in this case, we can drop the column within this dataset."
   ]
  },
  {
   "cell_type": "code",
   "execution_count": 193,
   "metadata": {},
   "outputs": [],
   "source": [
    "df.drop(columns=['FavoriteCount'], axis=1, inplace=True)"
   ]
  },
  {
   "cell_type": "markdown",
   "metadata": {},
   "source": [
    "Now we can continue with cleaning the `Tags` column."
   ]
  },
  {
   "cell_type": "code",
   "execution_count": 194,
   "metadata": {},
   "outputs": [
    {
     "data": {
      "text/plain": [
       "1366    <nlp><text-classification><automatic-summariza...\n",
       "Name: Tags, dtype: object"
      ]
     },
     "execution_count": 194,
     "metadata": {},
     "output_type": "execute_result"
    }
   ],
   "source": [
    "df['Tags'].sample(random_state=42)"
   ]
  },
  {
   "cell_type": "code",
   "execution_count": 195,
   "metadata": {},
   "outputs": [],
   "source": [
    "# Clean Tags by removing < > and splitting by ><\n",
    "def clean_tags(tags):\n",
    "    return [tag.strip('<>') for tag in tags.split('><')]\n",
    "\n",
    "\n",
    "df['Tags'] = df['Tags'].apply(clean_tags)"
   ]
  },
  {
   "cell_type": "code",
   "execution_count": 196,
   "metadata": {},
   "outputs": [
    {
     "data": {
      "text/plain": [
       "1366    [nlp, text-classification, automatic-summariza...\n",
       "Name: Tags, dtype: object"
      ]
     },
     "execution_count": 196,
     "metadata": {},
     "output_type": "execute_result"
    }
   ],
   "source": [
    "df['Tags'].sample(random_state=42)"
   ]
  },
  {
   "cell_type": "markdown",
   "metadata": {},
   "source": [
    "## Most Used / Most Viewed Posts"
   ]
  },
  {
   "cell_type": "code",
   "execution_count": 197,
   "metadata": {},
   "outputs": [
    {
     "data": {
      "text/html": [
       "<div>\n",
       "<style scoped>\n",
       "    .dataframe tbody tr th:only-of-type {\n",
       "        vertical-align: middle;\n",
       "    }\n",
       "\n",
       "    .dataframe tbody tr th {\n",
       "        vertical-align: top;\n",
       "    }\n",
       "\n",
       "    .dataframe thead th {\n",
       "        text-align: right;\n",
       "    }\n",
       "</style>\n",
       "<table border=\"1\" class=\"dataframe\">\n",
       "  <thead>\n",
       "    <tr style=\"text-align: right;\">\n",
       "      <th></th>\n",
       "      <th>Id</th>\n",
       "      <th>CreationDate</th>\n",
       "      <th>Score</th>\n",
       "      <th>ViewCount</th>\n",
       "      <th>Tags</th>\n",
       "      <th>AnswerCount</th>\n",
       "    </tr>\n",
       "  </thead>\n",
       "  <tbody>\n",
       "    <tr>\n",
       "      <th>0</th>\n",
       "      <td>130937</td>\n",
       "      <td>2024-12-14 19:42:10</td>\n",
       "      <td>0</td>\n",
       "      <td>7</td>\n",
       "      <td>[scikit-learn, random-forest, overfitting, for...</td>\n",
       "      <td>0</td>\n",
       "    </tr>\n",
       "    <tr>\n",
       "      <th>1</th>\n",
       "      <td>130935</td>\n",
       "      <td>2024-12-14 06:21:49</td>\n",
       "      <td>0</td>\n",
       "      <td>10</td>\n",
       "      <td>[neural-network, pytorch, overfitting]</td>\n",
       "      <td>0</td>\n",
       "    </tr>\n",
       "    <tr>\n",
       "      <th>2</th>\n",
       "      <td>130931</td>\n",
       "      <td>2024-12-13 17:58:34</td>\n",
       "      <td>0</td>\n",
       "      <td>54</td>\n",
       "      <td>[scikit-learn, xgboost]</td>\n",
       "      <td>1</td>\n",
       "    </tr>\n",
       "    <tr>\n",
       "      <th>3</th>\n",
       "      <td>130928</td>\n",
       "      <td>2024-12-13 15:36:20</td>\n",
       "      <td>0</td>\n",
       "      <td>12</td>\n",
       "      <td>[python, pytorch, forecasting, attention-mecha...</td>\n",
       "      <td>0</td>\n",
       "    </tr>\n",
       "    <tr>\n",
       "      <th>4</th>\n",
       "      <td>130927</td>\n",
       "      <td>2024-12-13 15:34:17</td>\n",
       "      <td>1</td>\n",
       "      <td>16</td>\n",
       "      <td>[dataset, data-mining, data, visualization, da...</td>\n",
       "      <td>1</td>\n",
       "    </tr>\n",
       "  </tbody>\n",
       "</table>\n",
       "</div>"
      ],
      "text/plain": [
       "       Id        CreationDate  Score  ViewCount  \\\n",
       "0  130937 2024-12-14 19:42:10      0          7   \n",
       "1  130935 2024-12-14 06:21:49      0         10   \n",
       "2  130931 2024-12-13 17:58:34      0         54   \n",
       "3  130928 2024-12-13 15:36:20      0         12   \n",
       "4  130927 2024-12-13 15:34:17      1         16   \n",
       "\n",
       "                                                Tags  AnswerCount  \n",
       "0  [scikit-learn, random-forest, overfitting, for...            0  \n",
       "1             [neural-network, pytorch, overfitting]            0  \n",
       "2                            [scikit-learn, xgboost]            1  \n",
       "3  [python, pytorch, forecasting, attention-mecha...            0  \n",
       "4  [dataset, data-mining, data, visualization, da...            1  "
      ]
     },
     "execution_count": 197,
     "metadata": {},
     "output_type": "execute_result"
    }
   ],
   "source": [
    "df.head()"
   ]
  },
  {
   "cell_type": "code",
   "execution_count": 198,
   "metadata": {},
   "outputs": [],
   "source": [
    "# Store tag cally count into new dictionary\n",
    "tag_uses = {}\n",
    "\n",
    "for tags in df['Tags']:\n",
    "    for tag in tags:\n",
    "        if tag in tag_uses:\n",
    "            tag_uses[tag] += 1\n",
    "        else:\n",
    "            tag_uses[tag] = 1\n",
    "\n",
    "# Create dataframe from dictionary\n",
    "tag_uses = pd.DataFrame.from_dict(tag_uses, orient='index')\n",
    "tag_uses.rename(columns={0: 'Uses'}, inplace=True)"
   ]
  },
  {
   "cell_type": "code",
   "execution_count": 199,
   "metadata": {},
   "outputs": [],
   "source": [
    "# Store tag view count into new dictionary\n",
    "tag_views = {}\n",
    "\n",
    "# Iterate rows to grab appropriate ViewCount\n",
    "for index, row in df.iterrows():\n",
    "    for tag in row['Tags']:\n",
    "        if tag in tag_views:\n",
    "            tag_views[tag] += row['ViewCount']\n",
    "        else:\n",
    "            tag_views[tag] = row['ViewCount']\n",
    "\n",
    "# Create dataframe from dictionary\n",
    "tag_views = pd.DataFrame.from_dict(tag_views, orient='index')\n",
    "tag_views.rename(columns={0: 'Views'}, inplace=True)"
   ]
  },
  {
   "cell_type": "code",
   "execution_count": 200,
   "metadata": {},
   "outputs": [
    {
     "data": {
      "image/png": "[encoded data removed]",
      "text/plain": [
       "<Figure size 1200x500 with 1 Axes>"
      ]
     },
     "metadata": {},
     "output_type": "display_data"
    }
   ],
   "source": [
    "# Grab top 10 tags by use count\n",
    "tag_uses_top_10 = tag_uses.sort_values(by='Uses', ascending=False).head(10)\n",
    "\n",
    "# Plot top 10 tags\n",
    "tag_uses_top_10.plot(kind='bar', figsize=(12, 5), rot=45, legend=False)\n",
    "\n",
    "plt.xlabel('Tag')\n",
    "plt.ylabel('Uses')\n",
    "plt.title('Top 10 Tags by Use Count')\n",
    "\n",
    "# Remove x-axis tick markers\n",
    "plt.tick_params(axis='x', length=0)\n",
    "\n",
    "sns.despine()\n",
    "plt.tight_layout()\n",
    "plt.savefig('visualizations/top_10_tags_by_use_count.png')\n",
    "plt.show()"
   ]
  },
  {
   "cell_type": "code",
   "execution_count": null,
   "metadata": {},
   "outputs": [
    {
     "data": {
      "image/png": "[encoded data removed]",
      "text/plain": [
       "<Figure size 1200x500 with 1 Axes>"
      ]
     },
     "metadata": {},
     "output_type": "display_data"
    }
   ],
   "source": [
    "# Grab top 10 tags by view count\n",
    "tag_views_top_10 = tag_views.sort_values(by='Views', ascending=False).head(10)\n",
    "\n",
    "# Plot top 10 tags\n",
    "tag_views_top_10.plot(kind='bar', figsize=(12, 5), rot=45, legend=False)\n",
    "\n",
    "plt.xlabel('Tag')\n",
    "plt.ylabel('Views')\n",
    "plt.title('Top 10 Tags by View Count')\n",
    "\n",
    "# Remove x-axis tick markers\n",
    "plt.tick_params(axis='x', length=0)\n",
    "\n",
    "sns.despine()\n",
    "plt.tight_layout()\n",
    "plt.savefig('visualizations/top_10_tags_by_view_count.png')\n",
    "plt.show()"
   ]
  }
 ],
 "metadata": {
  "kernelspec": {
   "display_name": "myenv",
   "language": "python",
   "name": "python3"
  },
  "language_info": {
   "codemirror_mode": {
    "name": "ipython",
    "version": 3
   },
   "file_extension": ".py",
   "mimetype": "text/x-python",
   "name": "python",
   "nbconvert_exporter": "python",
   "pygments_lexer": "ipython3",
   "version": "3.12.7"
  }
 },
 "nbformat": 4,
 "nbformat_minor": 2
}
