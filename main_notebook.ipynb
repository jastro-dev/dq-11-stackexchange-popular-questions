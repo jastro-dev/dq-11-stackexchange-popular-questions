{
 "cells": [
  {
   "cell_type": "markdown",
   "metadata": {},
   "source": [
    "# Stack Exchange Popular Data Science Questions"
   ]
  },
  {
   "cell_type": "markdown",
   "metadata": {},
   "source": [
    "In this project, we set to pull the most popular data science questions from Stack Exchange by utilizing the Stack Exchange Data Explorer (SEDE)."
   ]
  },
  {
   "cell_type": "markdown",
   "metadata": {},
   "source": [
    "## Initial SQL Exploration"
   ]
  },
  {
   "cell_type": "markdown",
   "metadata": {},
   "source": [
    "We begin by exploring the tables within the SEDE. The `Posts` table seems to be the most relevant to our goal of finding the most popular questions. Using the following query, we can see the relevant columns within the table as well as sample rows.\n",
    "\n",
    "```sql\n",
    "SELECT TOP 10 *\n",
    "FROM Posts;\n",
    "```\n",
    "\n",
    "<img src=\"screenshots/Screenshot 2024-12-17 142147.jpg\"/>"
   ]
  },
  {
   "cell_type": "markdown",
   "metadata": {},
   "source": [
    "Running the following gives us an explanation on Post Types:\n",
    "\n",
    "```sql\n",
    "SELECT *\n",
    "FROM PostTypes;\n",
    "```\n",
    "\n",
    "<img src=\"screenshots/Screenshot 2024-12-17 142503.jpg\"/>"
   ]
  },
  {
   "cell_type": "markdown",
   "metadata": {},
   "source": [
    "Seeing this table, we can see that we want to narrow down our posts to the `PostTypeId` of 1 to only view questions."
   ]
  },
  {
   "cell_type": "markdown",
   "metadata": {},
   "source": [
    "## Get Relevant Data From `Questions` Post Type"
   ]
  },
  {
   "cell_type": "markdown",
   "metadata": {
    "vscode": {
     "languageId": "plaintext"
    }
   },
   "source": [
    "The columns that we are targetting are:\n",
    "- Id\n",
    "- PostTypeId\n",
    "- CreationDate\n",
    "- Score\n",
    "- ViewCount\n",
    "- Tags\n",
    "- AnswerCount\n",
    "- FavoriteCount\n",
    "\n",
    "---\n",
    "\n",
    "### Questions from 2024\n",
    "\n",
    "We can filter the Posts table with the necessary columns by `Questions` type with the following query, focusing on only posts that are within the current year (2024):\n",
    "\n",
    "```sql\n",
    "SELECT Id, CreationDate, Score, ViewCount, Tags, AnswerCount, FavoriteCount\n",
    "FROM Posts\n",
    "WHERE PostTypeId = 1 AND CreationDate >= '2024-01-01 00:00:00'\n",
    "ORDER BY CreationDate DESC;\n",
    "```\n",
    "\n",
    "<img src=\"screenshots/Screenshot 2024-12-17 142904.jpg\"/>\n",
    "\n",
    "---\n",
    "\n",
    "### Dynamic: Questions from last 12 months\n",
    "\n",
    "We can even convert this into a dynamic query that will pull a years worth of data regardless of the current date.\n",
    "\n",
    "```sql\n",
    "SELECT Id, CreationDate, Score, ViewCount, Tags, AnswerCount, FavoriteCount\n",
    "FROM Posts\n",
    "WHERE PostTypeId = 1 AND CreationDate >= DATEADD(MONTH, -12, GETDATE())\n",
    "ORDER BY CreationDate DESC;\n",
    "```\n",
    "\n",
    "<img src=\"screenshots/Screenshot 2024-12-17 143717.jpg\"/>\n",
    "\n",
    "Using this resulting table, we will download it as a `.csv` and analyze our results further."
   ]
  },
  {
   "cell_type": "markdown",
   "metadata": {},
   "source": [
    "## "
   ]
  }
 ],
 "metadata": {
  "kernelspec": {
   "display_name": "myenv",
   "language": "python",
   "name": "python3"
  },
  "language_info": {
   "name": "python",
   "version": "3.12.7"
  }
 },
 "nbformat": 4,
 "nbformat_minor": 2
}
